{
  "nbformat": 4,
  "nbformat_minor": 0,
  "metadata": {
    "colab": {
      "provenance": []
    },
    "kernelspec": {
      "name": "python3",
      "display_name": "Python 3"
    },
    "language_info": {
      "name": "python"
    }
  },
  "cells": [
    {
      "cell_type": "code",
      "execution_count": null,
      "metadata": {
        "colab": {
          "base_uri": "https://localhost:8080/"
        },
        "id": "KvKgJQ-RPmA8",
        "outputId": "7cdf5d2f-3892-4d3e-cdd5-9bc278ab7c73"
      },
      "outputs": [
        {
          "output_type": "stream",
          "name": "stdout",
          "text": [
            "Collecting psycopg2-binary\n",
            "  Downloading psycopg2_binary-2.9.10-cp310-cp310-manylinux_2_17_x86_64.manylinux2014_x86_64.whl.metadata (4.9 kB)\n",
            "Downloading psycopg2_binary-2.9.10-cp310-cp310-manylinux_2_17_x86_64.manylinux2014_x86_64.whl (3.0 MB)\n",
            "\u001b[2K   \u001b[90m━━━━━━━━━━━━━━━━━━━━━━━━━━━━━━━━━━━━━━━━\u001b[0m \u001b[32m3.0/3.0 MB\u001b[0m \u001b[31m16.0 MB/s\u001b[0m eta \u001b[36m0:00:00\u001b[0m\n",
            "\u001b[?25hInstalling collected packages: psycopg2-binary\n",
            "Successfully installed psycopg2-binary-2.9.10\n",
            "Fetching data for table: loan_outcomes\n"
          ]
        },
        {
          "output_type": "stream",
          "name": "stderr",
          "text": [
            "<ipython-input-1-478cb2f12395>:22: UserWarning: pandas only supports SQLAlchemy connectable (engine/connection) or database string URI or sqlite3 DBAPI2 connection. Other DBAPI2 objects are not tested. Please consider using SQLAlchemy.\n",
            "  df = pd.read_sql_query(query, conn)\n"
          ]
        },
        {
          "output_type": "stream",
          "name": "stdout",
          "text": [
            "Saved loan_outcomes data to loan_outcomes.csv\n",
            "Fetching data for table: gps_fixes\n",
            "Saved gps_fixes data to gps_fixes.csv\n",
            "Fetching data for table: user_attributes\n",
            "Saved user_attributes data to user_attributes.csv\n"
          ]
        }
      ],
      "source": [
        "!pip install psycopg2-binary\n",
        "\n",
        "import psycopg2\n",
        "import pandas as pd\n",
        "\n",
        "# Database credentials\n",
        "db_params = {\n",
        "    \"host\": \"branchhomeworkdb.cv8nj4hg6yra.ap-south-1.rds.amazonaws.com\",\n",
        "    \"database\": \"branchdsprojectgps\",\n",
        "    \"user\": \"datascientist\",\n",
        "    \"password\": \"47eyYBLT0laW5j9U24Uuy8gLcrN\",\n",
        "    \"port\": 5432,\n",
        "}\n",
        "\n",
        "# Function to fetch data from a PostgreSQL table\n",
        "def fetch_table_data(query, db_params):\n",
        "    try:\n",
        "\n",
        "        conn = psycopg2.connect(**db_params)\n",
        "\n",
        "        df = pd.read_sql_query(query, conn)\n",
        "        conn.close()\n",
        "        return df\n",
        "    except Exception as e:\n",
        "        print(\"Error:\", e)\n",
        "        return None\n",
        "\n",
        "# Define SQL queries for each table\n",
        "queries = {\n",
        "    \"loan_outcomes\": \"SELECT * FROM loan_outcomes;\",\n",
        "    \"gps_fixes\": \"SELECT * FROM gps_fixes;\",\n",
        "    \"user_attributes\": \"SELECT * FROM user_attributes;\",\n",
        "}\n",
        "\n",
        "# Fetch data and save as CSV files\n",
        "for table_name, query in queries.items():\n",
        "    print(f\"Fetching data for table: {table_name}\")\n",
        "    data = fetch_table_data(query, db_params)\n",
        "    if data is not None:\n",
        "        csv_file = f\"{table_name}.csv\"\n",
        "        data.to_csv(csv_file, index=False)\n",
        "        print(f\"Saved {table_name} data to {csv_file}\")\n"
      ]
    },
    {
      "cell_type": "code",
      "source": [],
      "metadata": {
        "id": "-eMPr9OOPskH"
      },
      "execution_count": null,
      "outputs": []
    }
  ]
}